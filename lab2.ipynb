{
 "cells": [
  {
   "cell_type": "markdown",
   "id": "fdeff819",
   "metadata": {},
   "source": [
    "# Sinh Viên thực hiện Lab 2 ở Đây"
   ]
  },
  {
   "cell_type": "markdown",
   "id": "acc5d7dc",
   "metadata": {},
   "source": [
    "## Lab 2 - bài 1\n"
   ]
  },
  {
   "cell_type": "code",
   "execution_count": 7,
   "id": "001e0507",
   "metadata": {},
   "outputs": [
    {
     "name": "stdout",
     "output_type": "stream",
     "text": [
      "Con người có trong chuỗi\n",
      "Trích\"con người \"\n",
      "CON NGƯỜI \n"
     ]
    }
   ],
   "source": [
    "# Code lab 2 bài 1 ở đây\n",
    "Bai_tho = \"\"\"Kiếp con người mong manh như là gió\n",
    "Sống trên đời có được mấy lần vui\n",
    "Sao phải đau mà không thể mỉm cười\n",
    "Gắng buông nỗi ngậm ngùi nơi quá khứ\n",
    "\n",
    "Nếu có thể sao ta không làm thử\n",
    "Để tâm hồn khắc hai chữ bình an\n",
    "Cho đôi chân bước thanh thản nhẹ nhàng\n",
    "Dù hướng đời có muôn ngàn đá sỏi\"\"\"\n",
    "\n",
    "# 1. Kiểm tra từ \"con người\" có trong chuỗi không\n",
    "if \"Con người\":\n",
    "    print('Con người có trong chuỗi')\n",
    "else:\n",
    "    print('Từ con người không có trong báo cáo')\n",
    "\n",
    "# Sử dụng cú pháp trích ra 1 phần của chuỗi để lấy từ \"Con người\" trong câu đầu tiên\n",
    "\n",
    "dong = Bai_tho.split('\\n')[0]\n",
    "ten = dong[5:15]\n",
    "print(f'Trích\"{ten}\"')\n",
    "\n",
    "# Chuyển từ \"Con người\" thành chữ hoa và xuất ra màn hình\n",
    "\n",
    "hoa = (ten.upper())\n",
    "print(hoa)\n"
   ]
  },
  {
   "cell_type": "markdown",
   "id": "c0835310",
   "metadata": {},
   "source": [
    "## Lab 2 - Bài 2"
   ]
  },
  {
   "cell_type": "code",
   "execution_count": 8,
   "id": "fa9cb39f",
   "metadata": {},
   "outputs": [
    {
     "name": "stdout",
     "output_type": "stream",
     "text": [
      "Bài thơ sau khi chỉnh sửa là:\n",
      "...\n",
      "Kiếp con người mong manh như là gió\n",
      "Sống trên đời có được mấy lần vui\n",
      "Sao phải đau mà không thể mỉm cười\n",
      "Gắng buông nỗi ngậm ngùi nơi quá khứ\n",
      "\n",
      "Nếu có thể sao ta không làm thử\n",
      "Để tâm hồn khắc hai chữ hạnh phúc\n",
      "Cho đôi chân bước thanh thản nhẹ nhàng\n",
      "Dù hướng đời có muôn ngàn đá sỏi\n",
      "...\n"
     ]
    }
   ],
   "source": [
    "# Code lab 2  bài 2 ở đây\n",
    "# Khai báo biến bài thơ\n",
    "bai_tho = \"\"\"Kiếp con người mong manh như là gió\n",
    "Sống trên đời có được mấy lần vui\n",
    "Sao phải đau mà không thể mỉm cười\n",
    "Gắng buông nỗi ngậm ngùi nơi quá khứ\n",
    "\n",
    "Nếu có thể sao ta không làm thử\n",
    "Để tâm hồn khắc hai chữ bình an\n",
    "Cho đôi chân bước thanh thản nhẹ nhàng\n",
    "Dù hướng đời có muôn ngàn đá sỏi\"\"\"\n",
    "\n",
    "# 1. Thay thế từ \"bình an\" bằng \"hạnh phúc\"\n",
    "bai_tho_moi = bai_tho.replace(\"bình an\", \"hạnh phúc\")\n",
    "\n",
    "# 2. Ghép thêm cụm ký tự \"...\" vào đầu và cuối bài thơ\n",
    "bai_tho_moi = \"...\\n\" + bai_tho_moi + \"\\n...\"\n",
    "\n",
    "# 3. Xuất kết quả ra màn hình\n",
    "print(\"Bài thơ sau khi chỉnh sửa là:\")\n",
    "print(bai_tho_moi)"
   ]
  },
  {
   "cell_type": "markdown",
   "id": "0f2483fe",
   "metadata": {},
   "source": [
    "## Lab 2 - Bài 3"
   ]
  },
  {
   "cell_type": "code",
   "execution_count": 9,
   "id": "7034990b",
   "metadata": {},
   "outputs": [
    {
     "name": "stdout",
     "output_type": "stream",
     "text": [
      "Phương trình có nghiệm x = -2.0\n"
     ]
    }
   ],
   "source": [
    "# Code lab 2  bài 3 ở đây\n",
    "# Giải phương trình bậc nhất ax + b = 0\n",
    "\n",
    "# Nhập hệ số a và b từ bàn phím\n",
    "a = float(input(\"Nhập a: \"))\n",
    "b = float(input(\"Nhập b: \"))\n",
    "\n",
    "# Xét các trường hợp\n",
    "if a == 0:\n",
    "    if b == 0:\n",
    "        print(\"Phương trình có vô số nghiệm\")\n",
    "    else:\n",
    "        print(\"Phương trình vô nghiệm\")\n",
    "else:\n",
    "    x = -b / a\n",
    "    print(\"Phương trình có nghiệm x =\", x)\n"
   ]
  },
  {
   "cell_type": "markdown",
   "id": "d36ea3d3",
   "metadata": {},
   "source": [
    "## Lab 2 - Bài 4"
   ]
  },
  {
   "cell_type": "code",
   "execution_count": 10,
   "id": "4c707ec1",
   "metadata": {},
   "outputs": [
    {
     "name": "stdout",
     "output_type": "stream",
     "text": [
      "Delta = -8.0\n",
      "Phương trình vô nghiệm\n"
     ]
    }
   ],
   "source": [
    "# code lab 2 bài 4 ở đây\n",
    "# Giải phương trình bậc hai: ax^2 + bx + c = 0\n",
    "\n",
    "# Nhập hệ số a, b, c\n",
    "a = float(input(\"Nhập a: \"))\n",
    "b = float(input(\"Nhập b: \"))\n",
    "c = float(input(\"Nhập c: \"))\n",
    "\n",
    "if a == 0:\n",
    "    # Trường hợp a = 0, trở thành phương trình bậc nhất bx + c = 0\n",
    "    if b == 0:\n",
    "        if c == 0:\n",
    "            print(\"Phương trình có vô số nghiệm\")\n",
    "        else:\n",
    "            print(\"Phương trình vô nghiệm\")\n",
    "    else:\n",
    "        x = -c / b\n",
    "        print(\"Phương trình bậc nhất có nghiệm x =\", x)\n",
    "else:\n",
    "    # Tính delta\n",
    "    delta = b**2 - 4*a*c\n",
    "    print(\"Delta =\", delta)\n",
    "\n",
    "    if delta < 0:\n",
    "        print(\"Phương trình vô nghiệm\")\n",
    "    elif delta == 0:\n",
    "        x = -b / (2*a)\n",
    "        print(\"Phương trình có nghiệm kép x =\", x)\n",
    "    else:\n",
    "        x1 = (-b + math.sqrt(delta)) / (2*a)\n",
    "        x2 = (-b - math.sqrt(delta)) / (2*a)\n",
    "        print(\"Phương trình có 2 nghiệm phân biệt:\")\n",
    "        print(\"x1 =\", x1)\n",
    "        print(\"x2 =\", x2)"
   ]
  },
  {
   "cell_type": "markdown",
   "id": "e2b41d4a",
   "metadata": {},
   "source": [
    "## Lab 2 - Bài 5: bài tập làm thêm"
   ]
  },
  {
   "cell_type": "code",
   "execution_count": 1,
   "id": "0e0172f7",
   "metadata": {},
   "outputs": [
    {
     "name": "stdout",
     "output_type": "stream",
     "text": [
      "Phép toán không hợp lệ hoặc chia cho 0!\n"
     ]
    }
   ],
   "source": [
    "# code lab 2  bài làm thêm ở đây \n",
    "so1 = float(input(\"Nhập số thứ nhất: \"))\n",
    "so2 = float(input(\"Nhập số thứ hai: \"))\n",
    "toantu = input(\"Nhập phép toán cần tính: +, -, *, / \")\n",
    "\n",
    "if toantu == \"+\":\n",
    "    ket_qua = so1 + so2\n",
    "    print(f\"Tổng của hai {so1}+{so2} = {ket_qua}\")\n",
    "\n",
    "elif toantu == \"-\":\n",
    "    ket_qua = so1 - so2\n",
    "    print(f\"Hiệu của hai {so1}-{so2} = {ket_qua}\")\n",
    "\n",
    "elif toantu == \"*\":\n",
    "    ket_qua = so1 * so2\n",
    "    print(f\"Tích của hai {so1}*{so2} = {ket_qua}\")\n",
    "\n",
    "elif toantu == \"/\" and so2 != 0:\n",
    "    ket_qua = so1 / so2\n",
    "    print(f\"Thương của 2 số {so1}/{so2} = {ket_qua}\")\n",
    "\n",
    "else:\n",
    "    print(\"Phép toán không hợp lệ hoặc chia cho 0!\")"
   ]
  }
 ],
 "metadata": {
  "kernelspec": {
   "display_name": "Python 3",
   "language": "python",
   "name": "python3"
  },
  "language_info": {
   "codemirror_mode": {
    "name": "ipython",
    "version": 3
   },
   "file_extension": ".py",
   "mimetype": "text/x-python",
   "name": "python",
   "nbconvert_exporter": "python",
   "pygments_lexer": "ipython3",
   "version": "3.13.7"
  }
 },
 "nbformat": 4,
 "nbformat_minor": 5
}
