{
 "cells": [
  {
   "cell_type": "markdown",
   "id": "fdeff819",
   "metadata": {},
   "source": [
    "# Sinh Viên thực hiện Lab 4 ở Đây"
   ]
  },
  {
   "cell_type": "markdown",
   "id": "acc5d7dc",
   "metadata": {},
   "source": [
    "## Lab 1 - Bài 1"
   ]
  },
  {
   "cell_type": "code",
   "execution_count": 1,
   "id": "001e0507",
   "metadata": {},
   "outputs": [
    {
     "name": "stdout",
     "output_type": "stream",
     "text": [
      "--- KẾT QUẢ TÍNH TIỀN NƯỚC (Ví dụ) ---\n",
      "Sản lượng 12 m³: 92,600 đồng\n",
      "Sản lượng 23 m³: 199,000 đồng\n",
      "Sản lượng 34 m³: 379,000 đồng\n",
      "Sản lượng 5 m³: 37,500 đồng\n"
     ]
    }
   ],
   "source": [
    "# Code lab 4 bài 1 ở đây\n",
    "# Hằng số giá bán nước theo các bậc (tính bằng đồng/m³)\n",
    "# (Bậc 1: 10m³ đầu, Bậc 2: 10m³ tiếp, Bậc 3: 10m³ tiếp, Bậc 4: > 30m³)\n",
    "GIA_NUOC = (7500, 8800, 12000, 24000)\n",
    "# Giới hạn của các bậc (tính theo m³): 10, 20, 30.\n",
    "GIOI_HAN = (10, 20, 30)\n",
    "\n",
    "def tinh_tien_nuoc(san_luong):\n",
    "    \"\"\"Tính tiền nước sinh hoạt theo phương pháp lũy tiến.\"\"\"\n",
    "    tien_nuoc = 0\n",
    "    sl_da_tinh = 0\n",
    "\n",
    "    # Bậc 1: 10m³ đầu tiên (0m³ - 10m³)\n",
    "    # Lượng nước thực tế ở bậc này là: min(sản lượng, 10)\n",
    "    if san_luong > GIOI_HAN[0]:\n",
    "        luong_nuoc = GIOI_HAN[0]\n",
    "        tien_nuoc += luong_nuoc * GIA_NUOC[0]\n",
    "        sl_da_tinh += luong_nuoc\n",
    "    else:\n",
    "        # Nếu sản lượng <= 10m³\n",
    "        tien_nuoc += san_luong * GIA_NUOC[0]\n",
    "        return tien_nuoc\n",
    "\n",
    "    # Bậc 2: Từ 10m³ đến 20m³ (tối đa 10m³ tiếp theo)\n",
    "    if san_luong > GIOI_HAN[1]:\n",
    "        luong_nuoc = GIOI_HAN[1] - GIOI_HAN[0]  # Luôn là 10m³\n",
    "        tien_nuoc += luong_nuoc * GIA_NUOC[1]\n",
    "        sl_da_tinh += luong_nuoc\n",
    "    elif san_luong > GIOI_HAN[0]:\n",
    "        # Nếu 10m³ < sản lượng <= 20m³\n",
    "        luong_nuoc = san_luong - sl_da_tinh\n",
    "        tien_nuoc += luong_nuoc * GIA_NUOC[1]\n",
    "        return tien_nuoc\n",
    "\n",
    "    # Bậc 3: Từ 20m³ đến 30m³ (tối đa 10m³ tiếp theo)\n",
    "    if san_luong > GIOI_HAN[2]:\n",
    "        luong_nuoc = GIOI_HAN[2] - GIOI_HAN[1]  # Luôn là 10m³\n",
    "        tien_nuoc += luong_nuoc * GIA_NUOC[2]\n",
    "        sl_da_tinh += luong_nuoc\n",
    "    elif san_luong > GIOI_HAN[1]:\n",
    "        # Nếu 20m³ < sản lượng <= 30m³\n",
    "        luong_nuoc = san_luong - sl_da_tinh\n",
    "        tien_nuoc += luong_nuoc * GIA_NUOC[2]\n",
    "        return tien_nuoc\n",
    "\n",
    "    # Bậc 4: Trên 30m³ (lượng nước còn lại)\n",
    "    if san_luong > GIOI_HAN[2]:\n",
    "        luong_nuoc = san_luong - sl_da_tinh\n",
    "        tien_nuoc += luong_nuoc * GIA_NUOC[3]\n",
    "\n",
    "    return tien_nuoc\n",
    "\n",
    "# --- KIỂM TRA VÍ DỤ ---\n",
    "print(\"--- KẾT QUẢ TÍNH TIỀN NƯỚC (Ví dụ) ---\")\n",
    "print(f\"Sản lượng 12 m³: {tinh_tien_nuoc(12):,.0f} đồng\") # 10*7500 + 2*8800 = 92,600\n",
    "print(f\"Sản lượng 23 m³: {tinh_tien_nuoc(23):,.0f} đồng\") # 10*7500 + 10*8800 + 3*12000 = 199,000\n",
    "print(f\"Sản lượng 34 m³: {tinh_tien_nuoc(34):,.0f} đồng\") # 10*7500 + 10*8800 + 10*12000 + 4*24000 = 379,000\n",
    "print(f\"Sản lượng 5 m³: {tinh_tien_nuoc(5):,.0f} đồng\")   # 5*7500 = 37,500"
   ]
  },
  {
   "cell_type": "markdown",
   "id": "c0835310",
   "metadata": {},
   "source": [
    "## Lab 4 - Bài 2"
   ]
  },
  {
   "cell_type": "code",
   "execution_count": 5,
   "id": "fa9cb39f",
   "metadata": {},
   "outputs": [
    {
     "name": "stdout",
     "output_type": "stream",
     "text": [
      "{'duong': 0.31, 'dau': 0.16}\n"
     ]
    }
   ],
   "source": [
    "# Code lab 4 bài 2 ở đây\n",
    "nguyen_lieu = {\n",
    "    \"dau_xanh\": {\"duong\": 0.04, \"dau\": 0.07},\n",
    "    \"thap_cam\": {\"duong\": 0.06, \"dau\": 0.00},\n",
    "    \"deo\": {\"duong\": 0.05, \"dau\": 0.02}\n",
    "}\n",
    "\n",
    "def tinh_nguyen_lieu(so_luong):\n",
    "    tong = {\"duong\": 0, \"dau\": 0}\n",
    "    for loai, n in so_luong.items():\n",
    "        tong[\"duong\"] += nguyen_lieu[loai][\"duong\"] * n\n",
    "        tong[\"dau\"]   += nguyen_lieu[loai][\"dau\"] * n\n",
    "    return tong\n",
    "\n",
    "so_luong = {\"dau_xanh\": 2, \"thap_cam\": 3, \"deo\": 1}\n",
    "print(tinh_nguyen_lieu(so_luong))"
   ]
  },
  {
   "cell_type": "code",
   "execution_count": null,
   "id": "ef188a5e",
   "metadata": {},
   "outputs": [],
   "source": []
  },
  {
   "cell_type": "markdown",
   "id": "0f2483fe",
   "metadata": {},
   "source": [
    "## Lab 4 - Bài 3"
   ]
  },
  {
   "cell_type": "code",
   "execution_count": 6,
   "id": "7034990b",
   "metadata": {},
   "outputs": [
    {
     "name": "stdout",
     "output_type": "stream",
     "text": [
      "Số chẵn: [10]\n"
     ]
    }
   ],
   "source": [
    "# Code lab 4  bài 3 ở đây\n",
    "try:\n",
    "    ds = list(map(int, input(\"Nhập dãy số: \").split()))\n",
    "    chan = list(filter(lambda x: x % 2 == 0, ds))\n",
    "    print(\"Số chẵn:\", chan)\n",
    "except:\n",
    "    print(\"Vui lòng nhập số nguyên!\")"
   ]
  },
  {
   "cell_type": "markdown",
   "id": "d36ea3d3",
   "metadata": {},
   "source": [
    "## Lab 4 - Bài 4"
   ]
  },
  {
   "cell_type": "code",
   "execution_count": 1,
   "id": "4c707ec1",
   "metadata": {},
   "outputs": [
    {
     "name": "stdout",
     "output_type": "stream",
     "text": [
      "\n",
      "===== MENU =====\n",
      "1. Tính tiền nước sinh hoạt\n",
      "2. Tính nguyên liệu làm bánh\n",
      "3. Lọc số chẵn từ dãy số\n",
      "4. Thoát\n",
      "Vui lòng chọn từ 1 đến 4!\n",
      "\n",
      "===== MENU =====\n",
      "1. Tính tiền nước sinh hoạt\n",
      "2. Tính nguyên liệu làm bánh\n",
      "3. Lọc số chẵn từ dãy số\n",
      "4. Thoát\n",
      "Số chẵn: []\n",
      "\n",
      "===== MENU =====\n",
      "1. Tính tiền nước sinh hoạt\n",
      "2. Tính nguyên liệu làm bánh\n",
      "3. Lọc số chẵn từ dãy số\n",
      "4. Thoát\n",
      "Vui lòng chọn từ 1 đến 4!\n",
      "\n",
      "===== MENU =====\n",
      "1. Tính tiền nước sinh hoạt\n",
      "2. Tính nguyên liệu làm bánh\n",
      "3. Lọc số chẵn từ dãy số\n",
      "4. Thoát\n",
      "Kết thúc chương trình.\n"
     ]
    }
   ],
   "source": [
    "# code lab 4 bài 4 ở đây\n",
    "while True:\n",
    "    print(\"\\n===== MENU =====\")\n",
    "    print(\"1. Tính tiền nước sinh hoạt\")\n",
    "    print(\"2. Tính nguyên liệu làm bánh\")\n",
    "    print(\"3. Lọc số chẵn từ dãy số\")\n",
    "    print(\"4. Thoát\")\n",
    "    chon = input(\"Chọn chức năng (1-4): \")\n",
    "\n",
    "    if chon == \"1\":\n",
    "        so = int(input(\"Nhập số m3 nước: \"))\n",
    "        if so <= 10: tien = so * 5000\n",
    "        elif so <= 20: tien = 10*5000 + (so-10)*7000\n",
    "        else: tien = 10*5000 + 10*7000 + (so-20)*10000\n",
    "        print(\"Tiền nước:\", tien)\n",
    "\n",
    "    elif chon == \"2\":\n",
    "        nguyen_lieu = {\n",
    "            \"dau_xanh\": {\"duong\": 0.04, \"dau\": 0.07},\n",
    "            \"thap_cam\": {\"duong\": 0.06, \"dau\": 0.00},\n",
    "            \"deo\": {\"duong\": 0.05, \"dau\": 0.02}\n",
    "        }\n",
    "        so_luong = {\"dau_xanh\":2, \"thap_cam\":3, \"deo\":1}  # ví dụ mẫu\n",
    "        tong = {\"duong\":0, \"dau\":0}\n",
    "        for loai, n in so_luong.items():\n",
    "            tong[\"duong\"] += nguyen_lieu[loai][\"duong\"] * n\n",
    "            tong[\"dau\"]   += nguyen_lieu[loai][\"dau\"] * n\n",
    "        print(\"Nguyên liệu cần:\", tong)\n",
    "\n",
    "    elif chon == \"3\":\n",
    "        try:\n",
    "            ds = list(map(int, input(\"Nhập dãy số: \").split()))\n",
    "            print(\"Số chẵn:\", list(filter(lambda x: x % 2 == 0, ds)))\n",
    "        except:\n",
    "            print(\"Lỗi: chỉ nhập số nguyên!\")\n",
    "\n",
    "    elif chon == \"4\":\n",
    "        print(\"Kết thúc chương trình.\")\n",
    "        break\n",
    "    else:\n",
    "        print(\"Vui lòng chọn từ 1 đến 4!\")"
   ]
  },
  {
   "cell_type": "markdown",
   "id": "e2b41d4a",
   "metadata": {},
   "source": [
    "## Lab 4 - Bài 5: bài tập làm thêm"
   ]
  },
  {
   "cell_type": "code",
   "execution_count": null,
   "id": "0e0172f7",
   "metadata": {},
   "outputs": [],
   "source": [
    "# code lab 4  bài làm thêm ở đây "
   ]
  }
 ],
 "metadata": {
  "kernelspec": {
   "display_name": "Python 3",
   "language": "python",
   "name": "python3"
  },
  "language_info": {
   "codemirror_mode": {
    "name": "ipython",
    "version": 3
   },
   "file_extension": ".py",
   "mimetype": "text/x-python",
   "name": "python",
   "nbconvert_exporter": "python",
   "pygments_lexer": "ipython3",
   "version": "3.13.7"
  }
 },
 "nbformat": 4,
 "nbformat_minor": 5
}
